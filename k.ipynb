{
 "cells": [
  {
   "cell_type": "code",
   "execution_count": 1,
   "id": "6994b566",
   "metadata": {},
   "outputs": [
    {
     "ename": "ModuleNotFoundError",
     "evalue": "No module named 'pandas_profiling'",
     "output_type": "error",
     "traceback": [
      "\u001b[0;31m---------------------------------------------------------------------------\u001b[0m",
      "\u001b[0;31mModuleNotFoundError\u001b[0m                       Traceback (most recent call last)",
      "\u001b[0;32m<ipython-input-1-98f09099f855>\u001b[0m in \u001b[0;36m<module>\u001b[0;34m\u001b[0m\n\u001b[1;32m      1\u001b[0m \u001b[0;32mimport\u001b[0m \u001b[0mpandas\u001b[0m \u001b[0;32mas\u001b[0m \u001b[0mpd\u001b[0m\u001b[0;34m\u001b[0m\u001b[0;34m\u001b[0m\u001b[0m\n\u001b[0;32m----> 2\u001b[0;31m \u001b[0;32mfrom\u001b[0m \u001b[0mpandas_profiling\u001b[0m \u001b[0;32mimport\u001b[0m \u001b[0mProfileReport\u001b[0m\u001b[0;34m\u001b[0m\u001b[0;34m\u001b[0m\u001b[0m\n\u001b[0m",
      "\u001b[0;31mModuleNotFoundError\u001b[0m: No module named 'pandas_profiling'"
     ]
    }
   ],
   "source": [
    "import pandas as pd\n",
    "from pandas_profiling import ProfileReport"
   ]
  },
  {
   "cell_type": "code",
   "execution_count": 2,
   "id": "69b12c62",
   "metadata": {},
   "outputs": [
    {
     "name": "stdout",
     "output_type": "stream",
     "text": [
      "Collecting pandas-profiling\n",
      "\u001b[?25l  Downloading https://files.pythonhosted.org/packages/ac/cb/f038b9b57c6edaaf6f4e400b0bb1d954bc08dc6bc61a4b0861acecd3789c/pandas_profiling-3.6.6-py2.py3-none-any.whl (324kB)\n",
      "\u001b[K     |████████████████████████████████| 327kB 10.0MB/s eta 0:00:01\n",
      "\u001b[?25hCollecting ydata-profiling\n",
      "\u001b[?25l  Downloading https://files.pythonhosted.org/packages/99/a7/daf32ae680605e58fa2a5d33b93f501e5beffac7589c40f284ad5675c214/ydata_profiling-4.1.2-py2.py3-none-any.whl (345kB)\n",
      "\u001b[K     |████████████████████████████████| 348kB 87.2MB/s eta 0:00:01\n",
      "\u001b[?25hCollecting requests<2.29,>=2.24.0\n",
      "\u001b[?25l  Downloading https://files.pythonhosted.org/packages/d2/f4/274d1dbe96b41cf4e0efb70cbced278ffd61b5c7bb70338b62af94ccb25b/requests-2.28.2-py3-none-any.whl (62kB)\n",
      "\u001b[K     |████████████████████████████████| 71kB 4.6MB/s  eta 0:00:01\n",
      "\u001b[?25hCollecting phik<0.13,>=0.11.1\n",
      "\u001b[?25l  Downloading https://files.pythonhosted.org/packages/29/b9/778331c1e6a03ce285a2648e7b5ca5e5623b9f976897387b0221093ddd9b/phik-0.12.3-cp37-cp37m-manylinux_2_17_x86_64.manylinux2014_x86_64.whl (680kB)\n",
      "\u001b[K     |████████████████████████████████| 686kB 88.7MB/s eta 0:00:01\n",
      "\u001b[?25hCollecting scipy<1.10,>=1.4.1\n",
      "\u001b[?25l  Downloading https://files.pythonhosted.org/packages/58/4f/11f34cfc57ead25752a7992b069c36f5d18421958ebd6466ecd849aeaf86/scipy-1.7.3-cp37-cp37m-manylinux_2_12_x86_64.manylinux2010_x86_64.whl (38.1MB)\n",
      "\u001b[K     |████████████████████████████████| 38.1MB 114kB/s  eta 0:00:01\n",
      "\u001b[?25hCollecting pydantic<1.11,>=1.8.1\n",
      "\u001b[?25l  Downloading https://files.pythonhosted.org/packages/07/3a/5bc906697c9aa0f0fc28f81ec25995315c999fb6df7b29e56a49b08009a3/pydantic-1.10.7-cp37-cp37m-manylinux_2_17_x86_64.manylinux2014_x86_64.whl (3.1MB)\n",
      "\u001b[K     |████████████████████████████████| 3.1MB 84.5MB/s eta 0:00:01\n",
      "\u001b[?25hCollecting statsmodels<0.14,>=0.13.2\n",
      "\u001b[?25l  Downloading https://files.pythonhosted.org/packages/91/8e/062b268b8e6d19382cbf2f97ac0384285511790718ce90bbfb1eb5e44b07/statsmodels-0.13.5-cp37-cp37m-manylinux_2_17_x86_64.manylinux2014_x86_64.whl (9.9MB)\n",
      "\u001b[K     |████████████████████████████████| 9.9MB 83.7MB/s eta 0:00:01\n",
      "\u001b[?25hCollecting pandas!=1.4.0,<1.6,>1.1\n",
      "\u001b[?25l  Downloading https://files.pythonhosted.org/packages/3e/0c/23764c4635dcb0a784a787498d56847b90ebf974e65f4ab4053a5d97b1a5/pandas-1.3.5-cp37-cp37m-manylinux_2_17_x86_64.manylinux2014_x86_64.whl (11.3MB)\n",
      "\u001b[K     |████████████████████████████████| 11.3MB 86.8MB/s eta 0:00:01\n",
      "\u001b[?25hCollecting seaborn<0.13,>=0.10.1\n",
      "\u001b[?25l  Downloading https://files.pythonhosted.org/packages/8f/2e/17bbb83fbf102687bb2aa3d808add39da820a7698159302a1a69bb82e01c/seaborn-0.12.2-py3-none-any.whl (293kB)\n",
      "\u001b[K     |████████████████████████████████| 296kB 105.7MB/s eta 0:00:01\n",
      "\u001b[?25hCollecting imagehash==4.3.1\n",
      "\u001b[?25l  Downloading https://files.pythonhosted.org/packages/2d/b4/19a746a986c6e38595fa5947c028b1b8e287773dcad766e648897ad2a4cf/ImageHash-4.3.1-py2.py3-none-any.whl (296kB)\n",
      "\u001b[K     |████████████████████████████████| 296kB 94.6MB/s eta 0:00:01\n",
      "\u001b[?25hCollecting tqdm<4.65,>=4.48.2\n",
      "\u001b[?25l  Downloading https://files.pythonhosted.org/packages/47/bb/849011636c4da2e44f1253cd927cfb20ada4374d8b3a4e425416e84900cc/tqdm-4.64.1-py2.py3-none-any.whl (78kB)\n",
      "\u001b[K     |████████████████████████████████| 81kB 6.1MB/s  eta 0:00:01\n",
      "\u001b[?25hCollecting visions[type_image_path]==0.7.5\n",
      "\u001b[?25l  Downloading https://files.pythonhosted.org/packages/62/fa/6a8539c83d2ccbd08d5f0c843b1784af9ff514e77f4c9d5d6800fdd340f6/visions-0.7.5-py3-none-any.whl (102kB)\n",
      "\u001b[K     |████████████████████████████████| 112kB 105.5MB/s eta 0:00:01\n",
      "\u001b[?25hCollecting typeguard<2.14,>=2.13.2\n",
      "  Downloading https://files.pythonhosted.org/packages/9a/bb/d43e5c75054e53efce310e79d63df0ac3f25e34c926be5dffb7d283fb2a8/typeguard-2.13.3-py3-none-any.whl\n",
      "Collecting matplotlib<3.7,>=3.2\n",
      "\u001b[?25l  Downloading https://files.pythonhosted.org/packages/ad/62/7b662284352867a86acfb636761ba351723fc3a235efd8397578d903413d/matplotlib-3.5.3-cp37-cp37m-manylinux_2_5_x86_64.manylinux1_x86_64.whl (11.2MB)\n",
      "\u001b[K     |████████████████████████████████| 11.2MB 97.9MB/s eta 0:00:01\n",
      "\u001b[?25hCollecting htmlmin==0.1.12\n",
      "  Downloading https://files.pythonhosted.org/packages/b3/e7/fcd59e12169de19f0131ff2812077f964c6b960e7c09804d30a7bf2ab461/htmlmin-0.1.12.tar.gz\n",
      "Collecting jinja2<3.2,>=2.11.1\n",
      "\u001b[?25l  Downloading https://files.pythonhosted.org/packages/bc/c3/f068337a370801f372f2f8f6bad74a5c140f6fda3d9de154052708dd3c65/Jinja2-3.1.2-py3-none-any.whl (133kB)\n",
      "\u001b[K     |████████████████████████████████| 133kB 102.3MB/s eta 0:00:01\n",
      "\u001b[?25hCollecting numpy<1.24,>=1.16.0\n",
      "\u001b[?25l  Downloading https://files.pythonhosted.org/packages/6d/ad/ff3b21ebfe79a4d25b4a4f8e5cf9fd44a204adb6b33c09010f566f51027a/numpy-1.21.6-cp37-cp37m-manylinux_2_12_x86_64.manylinux2010_x86_64.whl (15.7MB)\n",
      "\u001b[K     |████████████████████████████████| 15.7MB 90.1MB/s eta 0:00:01\n",
      "\u001b[?25hCollecting PyYAML<6.1,>=5.0.0\n",
      "\u001b[?25l  Downloading https://files.pythonhosted.org/packages/eb/5f/6e6fe6904e1a9c67bc2ca5629a69e7a5a0b17f079da838bab98a1e548b25/PyYAML-6.0-cp37-cp37m-manylinux_2_5_x86_64.manylinux1_x86_64.manylinux_2_12_x86_64.manylinux2010_x86_64.whl (596kB)\n",
      "\u001b[K     |████████████████████████████████| 604kB 89.5MB/s eta 0:00:01\n",
      "\u001b[?25hCollecting multimethod<1.10,>=1.4\n",
      "  Downloading https://files.pythonhosted.org/packages/21/91/01ec16d3d0cadb499b83e6f6435c63e43f3c122c146d82a4eb9575169817/multimethod-1.9.1-py3-none-any.whl\n",
      "Collecting charset-normalizer<4,>=2\n",
      "\u001b[?25l  Downloading https://files.pythonhosted.org/packages/00/47/f14533da238134f5067fb1d951eb03d5c4be895d6afb11c7ebd07d111acb/charset_normalizer-3.1.0-cp37-cp37m-manylinux_2_17_x86_64.manylinux2014_x86_64.whl (171kB)\n",
      "\u001b[K     |████████████████████████████████| 174kB 82.7MB/s eta 0:00:01\n",
      "\u001b[?25hCollecting idna<4,>=2.5\n",
      "\u001b[?25l  Downloading https://files.pythonhosted.org/packages/fc/34/3030de6f1370931b9dbb4dad48f6ab1015ab1d32447850b9fc94e60097be/idna-3.4-py3-none-any.whl (61kB)\n",
      "\u001b[K     |████████████████████████████████| 71kB 2.8MB/s  eta 0:00:01\n",
      "\u001b[?25hCollecting urllib3<1.27,>=1.21.1\n",
      "\u001b[?25l  Downloading https://files.pythonhosted.org/packages/7b/f5/890a0baca17a61c1f92f72b81d3c31523c99bec609e60c292ea55b387ae8/urllib3-1.26.15-py2.py3-none-any.whl (140kB)\n",
      "\u001b[K     |████████████████████████████████| 143kB 89.2MB/s eta 0:00:01\n",
      "\u001b[?25hCollecting certifi>=2017.4.17\n",
      "\u001b[?25l  Downloading https://files.pythonhosted.org/packages/71/4c/3db2b8021bd6f2f0ceb0e088d6b2d49147671f25832fb17970e9b583d742/certifi-2022.12.7-py3-none-any.whl (155kB)\n",
      "\u001b[K     |████████████████████████████████| 163kB 90.4MB/s eta 0:00:01\n",
      "\u001b[?25hCollecting joblib>=0.14.1\n",
      "\u001b[?25l  Downloading https://files.pythonhosted.org/packages/91/d4/3b4c8e5a30604df4c7518c562d4bf0502f2fa29221459226e140cf846512/joblib-1.2.0-py3-none-any.whl (297kB)\n",
      "\u001b[K     |████████████████████████████████| 307kB 99.7MB/s eta 0:00:01\n",
      "\u001b[?25hCollecting typing-extensions>=4.2.0\n",
      "  Downloading https://files.pythonhosted.org/packages/31/25/5abcd82372d3d4a3932e1fa8c3dbf9efac10cc7c0d16e78467460571b404/typing_extensions-4.5.0-py3-none-any.whl\n",
      "Collecting packaging>=21.3\n",
      "\u001b[?25l  Downloading https://files.pythonhosted.org/packages/ab/c3/57f0601a2d4fe15de7a553c00adbc901425661bf048f2a22dfc500caf121/packaging-23.1-py3-none-any.whl (48kB)\n",
      "\u001b[K     |████████████████████████████████| 51kB 3.7MB/s  eta 0:00:01\n",
      "\u001b[?25hCollecting patsy>=0.5.2\n",
      "\u001b[?25l  Downloading https://files.pythonhosted.org/packages/2a/e4/b3263b0e353f2be7b14f044d57874490c9cef1798a435f038683acea5c98/patsy-0.5.3-py2.py3-none-any.whl (233kB)\n",
      "\u001b[K     |████████████████████████████████| 235kB 94.5MB/s eta 0:00:01\n",
      "\u001b[?25hCollecting python-dateutil>=2.7.3\n",
      "\u001b[?25l  Downloading https://files.pythonhosted.org/packages/36/7a/87837f39d0296e723bb9b62bbb257d0355c7f6128853c78955f57342a56d/python_dateutil-2.8.2-py2.py3-none-any.whl (247kB)\n",
      "\u001b[K     |████████████████████████████████| 256kB 92.2MB/s eta 0:00:01\n",
      "\u001b[?25hCollecting pytz>=2017.3\n",
      "\u001b[?25l  Downloading https://files.pythonhosted.org/packages/7f/99/ad6bd37e748257dd70d6f85d916cafe79c0b0f5e2e95b11f7fbc82bf3110/pytz-2023.3-py2.py3-none-any.whl (502kB)\n",
      "\u001b[K     |████████████████████████████████| 512kB 78.7MB/s eta 0:00:01\n",
      "\u001b[?25hCollecting pillow\n",
      "\u001b[?25l  Downloading https://files.pythonhosted.org/packages/37/95/48565d6beb34deaacda1543b515dab9479b8fa8b9046703fd08ad447ddfe/Pillow-9.5.0-cp37-cp37m-manylinux_2_17_x86_64.manylinux2014_x86_64.whl (3.3MB)\n"
     ]
    },
    {
     "name": "stdout",
     "output_type": "stream",
     "text": [
      "\u001b[K     |████████████████████████████████| 3.3MB 93.5MB/s eta 0:00:01\n",
      "\u001b[?25hCollecting PyWavelets\n",
      "\u001b[?25l  Downloading https://files.pythonhosted.org/packages/ae/56/4441877073d8a5266dbf7b04c7f3dc66f1149c8efb9323e0ef987a9bb1ce/PyWavelets-1.3.0-cp37-cp37m-manylinux_2_5_x86_64.manylinux1_x86_64.manylinux_2_12_x86_64.manylinux2010_x86_64.whl (6.4MB)\n",
      "\u001b[K     |████████████████████████████████| 6.4MB 98.4MB/s eta 0:00:01\n",
      "\u001b[?25hCollecting attrs>=19.3.0\n",
      "\u001b[?25l  Downloading https://files.pythonhosted.org/packages/f0/eb/fcb708c7bf5056045e9e98f62b93bd7467eb718b0202e7698eb11d66416c/attrs-23.1.0-py3-none-any.whl (61kB)\n",
      "\u001b[K     |████████████████████████████████| 61kB 2.6MB/s  eta 0:00:01\n",
      "\u001b[?25hCollecting tangled-up-in-unicode>=0.0.4\n",
      "\u001b[?25l  Downloading https://files.pythonhosted.org/packages/dd/60/3651960b74aead282ec1ad819e70bdccf3ee73322d13d4339a6e3f5b7ed3/tangled_up_in_unicode-0.2.0-py3-none-any.whl (4.7MB)\n",
      "\u001b[K     |████████████████████████████████| 4.7MB 97.1MB/s eta 0:00:01\n",
      "\u001b[?25hCollecting networkx>=2.4\n",
      "\u001b[?25l  Downloading https://files.pythonhosted.org/packages/e9/93/aa6613aa70d6eb4868e667068b5a11feca9645498fd31b954b6c4bb82fa5/networkx-2.6.3-py3-none-any.whl (1.9MB)\n",
      "\u001b[K     |████████████████████████████████| 1.9MB 87.8MB/s eta 0:00:01\n",
      "\u001b[?25hCollecting cycler>=0.10\n",
      "  Downloading https://files.pythonhosted.org/packages/5c/f9/695d6bedebd747e5eb0fe8fad57b72fdf25411273a39791cde838d5a8f51/cycler-0.11.0-py3-none-any.whl\n",
      "Collecting kiwisolver>=1.0.1\n",
      "\u001b[?25l  Downloading https://files.pythonhosted.org/packages/ab/8f/8dbe2d4efc4c0b08ec67d6efb7cc31fbfd688c80afad85f65980633b0d37/kiwisolver-1.4.4-cp37-cp37m-manylinux_2_5_x86_64.manylinux1_x86_64.whl (1.1MB)\n",
      "\u001b[K     |████████████████████████████████| 1.2MB 81.4MB/s eta 0:00:01\n",
      "\u001b[?25hCollecting fonttools>=4.22.0\n",
      "\u001b[?25l  Downloading https://files.pythonhosted.org/packages/e3/d9/e9bae85e84737e76ebbcbea13607236da0c0699baed0ae4f1151b728a608/fonttools-4.38.0-py3-none-any.whl (965kB)\n",
      "\u001b[K     |████████████████████████████████| 972kB 95.3MB/s eta 0:00:01\n",
      "\u001b[?25hCollecting pyparsing>=2.2.1\n",
      "\u001b[?25l  Downloading https://files.pythonhosted.org/packages/6c/10/a7d0fa5baea8fe7b50f448ab742f26f52b80bfca85ac2be9d35cdd9a3246/pyparsing-3.0.9-py3-none-any.whl (98kB)\n",
      "\u001b[K     |████████████████████████████████| 102kB 224kB/s eta 0:00:01\n",
      "\u001b[?25hCollecting MarkupSafe>=2.0\n",
      "  Downloading https://files.pythonhosted.org/packages/95/88/8c8cce021ac1b1eedde349c6a41f6c256da60babf95e572071361ff3f66b/MarkupSafe-2.1.2-cp37-cp37m-manylinux_2_17_x86_64.manylinux2014_x86_64.whl\n",
      "Collecting six\n",
      "  Downloading https://files.pythonhosted.org/packages/d9/5a/e7c31adbe875f2abbb91bd84cf2dc52d792b5a01506781dbcf25c91daf11/six-1.16.0-py2.py3-none-any.whl\n",
      "Collecting importlib-metadata; python_version < \"3.8\"\n",
      "  Downloading https://files.pythonhosted.org/packages/50/a2/75da1ccf2cc043aeb866e18c9a196f0b42abfe5d421c657019c68ebec1e9/importlib_metadata-6.5.0-py3-none-any.whl\n",
      "Collecting zipp>=0.5\n",
      "  Downloading https://files.pythonhosted.org/packages/5b/fa/c9e82bbe1af6266adf08afb563905eb87cab83fde00a0a08963510621047/zipp-3.15.0-py3-none-any.whl\n",
      "Building wheels for collected packages: htmlmin\n",
      "  Building wheel for htmlmin (setup.py) ... \u001b[?25ldone\n",
      "\u001b[?25h  Created wheel for htmlmin: filename=htmlmin-0.1.12-cp37-none-any.whl size=27083 sha256=94273d5e677f7de5264db136af7bb3bdf8fce65b220b350da8af1a4fcd5569e1\n",
      "  Stored in directory: /home/mosaic-ai/.cache/pip/wheels/43/07/ac/7c5a9d708d65247ac1f94066cf1db075540b85716c30255459\n",
      "Successfully built htmlmin\n",
      "\u001b[31mERROR: openapi-schema-validator 0.4.3 has requirement jsonschema<5.0.0,>=4.0.0, but you'll have jsonschema 3.2.0 which is incompatible.\u001b[0m\n",
      "\u001b[31mERROR: mosaic-connector-python 1.0.0 has requirement numpy==1.16.1, but you'll have numpy 1.21.6 which is incompatible.\u001b[0m\n",
      "\u001b[31mERROR: mosaic-connector-python 1.0.0 has requirement pandas==1.0.4, but you'll have pandas 1.3.5 which is incompatible.\u001b[0m\n",
      "\u001b[31mERROR: mosaic-ai-serving 1.0.0 has requirement Jinja2==3.0.3, but you'll have jinja2 3.1.2 which is incompatible.\u001b[0m\n",
      "\u001b[31mERROR: mosaic-ai-serving 1.0.0 has requirement matplotlib==3.1.1; python_version < \"3.8\", but you'll have matplotlib 3.5.3 which is incompatible.\u001b[0m\n",
      "\u001b[31mERROR: mosaic-ai-client 1.0.0 has requirement matplotlib==3.1.1, but you'll have matplotlib 3.5.3 which is incompatible.\u001b[0m\n",
      "\u001b[31mERROR: jupyterlab-server 2.19.0 has requirement jsonschema>=4.17.3, but you'll have jsonschema 3.2.0 which is incompatible.\u001b[0m\n",
      "\u001b[31mERROR: jupyterlab-server 2.19.0 has requirement jupyter-server<3,>=1.21, but you'll have jupyter-server 1.17.0 which is incompatible.\u001b[0m\n",
      "\u001b[31mERROR: jsonschema-spec 0.1.3 has requirement jsonschema<5.0.0,>=4.0.0, but you'll have jsonschema 3.2.0 which is incompatible.\u001b[0m\n",
      "Installing collected packages: charset-normalizer, idna, urllib3, certifi, requests, numpy, scipy, cycler, pillow, packaging, typing-extensions, kiwisolver, fonttools, six, python-dateutil, pyparsing, matplotlib, pytz, pandas, joblib, phik, pydantic, patsy, statsmodels, seaborn, PyWavelets, imagehash, tqdm, zipp, importlib-metadata, attrs, multimethod, tangled-up-in-unicode, networkx, visions, typeguard, htmlmin, MarkupSafe, jinja2, PyYAML, ydata-profiling, pandas-profiling\n",
      "Successfully installed MarkupSafe-2.1.2 PyWavelets-1.3.0 PyYAML-6.0 attrs-23.1.0 certifi-2022.12.7 charset-normalizer-3.1.0 cycler-0.11.0 fonttools-4.38.0 htmlmin-0.1.12 idna-3.4 imagehash-4.3.1 importlib-metadata-6.5.0 jinja2-3.1.2 joblib-1.2.0 kiwisolver-1.4.4 matplotlib-3.5.3 multimethod-1.9.1 networkx-2.6.3 numpy-1.21.6 packaging-23.1 pandas-1.3.5 pandas-profiling-3.6.6 patsy-0.5.3 phik-0.12.3 pillow-9.5.0 pydantic-1.10.7 pyparsing-3.0.9 python-dateutil-2.8.2 pytz-2023.3 requests-2.28.2 scipy-1.7.3 seaborn-0.12.2 six-1.16.0 statsmodels-0.13.5 tangled-up-in-unicode-0.2.0 tqdm-4.64.1 typeguard-2.13.3 typing-extensions-4.5.0 urllib3-1.26.15 visions-0.7.5 ydata-profiling-4.1.2 zipp-3.15.0\n",
      "\u001b[33mWARNING: You are using pip version 19.3.1; however, version 23.1 is available.\n",
      "You should consider upgrading via the 'pip install --upgrade pip' command.\u001b[0m\n",
      "Note: you may need to restart the kernel to use updated packages.\n"
     ]
    }
   ],
   "source": [
    "pip install pandas-profiling"
   ]
  },
  {
   "cell_type": "code",
   "execution_count": null,
   "id": "84c0385e",
   "metadata": {},
   "outputs": [],
   "source": [
    "#df = pd.read_csv('/data/CC_fraudTrain.csv')\n",
    "df = pd.read_csv('/data/prepared.csv')"
   ]
  },
  {
   "cell_type": "code",
   "execution_count": null,
   "id": "6de7e47e",
   "metadata": {},
   "outputs": [],
   "source": [
    "df.head()"
   ]
  },
  {
   "cell_type": "code",
   "execution_count": null,
   "id": "c3e4ed28",
   "metadata": {},
   "outputs": [],
   "source": [
    "df.shape"
   ]
  },
  {
   "cell_type": "code",
   "execution_count": null,
   "id": "c6dbd84c",
   "metadata": {},
   "outputs": [],
   "source": [
    "df_1 = df.head(1000)"
   ]
  },
  {
   "cell_type": "code",
   "execution_count": null,
   "id": "32f21bdb",
   "metadata": {},
   "outputs": [],
   "source": [
    "profile = ProfileReport(df_1,minimal=True,\n",
    "                       title=\"Credit Fraud dataset\",\n",
    "                       dataset={\n",
    "        \"description\": \"This dataset is about to credit card fraud and which include around 13 feature and 1 target.\",\n",
    "        \"Date\": \"27th December 2021\",\n",
    "        \"Source\": \"Kaggle\",\n",
    "    })"
   ]
  },
  {
   "cell_type": "code",
   "execution_count": null,
   "id": "a7f539e6",
   "metadata": {},
   "outputs": [],
   "source": [
    "profile"
   ]
  },
  {
   "cell_type": "code",
   "execution_count": null,
   "id": "67895f6b",
   "metadata": {},
   "outputs": [],
   "source": [
    "profile.to_file(\"/data/data_profile.html\")"
   ]
  }
 ],
 "metadata": {
  "kernelspec": {
   "display_name": "Python 3",
   "language": "python",
   "name": "python3"
  },
  "language_info": {
   "codemirror_mode": {
    "name": "ipython",
    "version": 3
   },
   "file_extension": ".py",
   "mimetype": "text/x-python",
   "name": "python",
   "nbconvert_exporter": "python",
   "pygments_lexer": "ipython3",
   "version": "3.7.12"
  }
 },
 "nbformat": 4,
 "nbformat_minor": 5
}
