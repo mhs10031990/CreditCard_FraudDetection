{
 "cells": [
  {
   "cell_type": "code",
   "execution_count": 1,
   "id": "042f55b2",
   "metadata": {},
   "outputs": [],
   "source": [
    "import pandas as pd\n",
    "import datetime as dt"
   ]
  },
  {
   "cell_type": "code",
   "execution_count": 2,
   "id": "8b8f9d5c",
   "metadata": {},
   "outputs": [],
   "source": [
    "def data_read():\n",
    "    df = pd.read_csv('/data/cc_fraudtrain.csv')\n",
    "    test = pd.read_csv('/data/cc_fraudtest.csv')\n",
    "    df_final = pd.concat([df,test],axis=0)\n",
    "    return df_final"
   ]
  },
  {
   "cell_type": "code",
   "execution_count": 3,
   "id": "a2d4a3c4",
   "metadata": {},
   "outputs": [],
   "source": [
    "def undersampling(df_final):\n",
    "    df_fraud = df_final.loc[df_final['is_fraud']==1].copy()\n",
    "    df_non_fraud = df_final.loc[df_final['is_fraud']==0].copy()\n",
    "    df_non_fraud = df_non_fraud.sample(df_fraud.shape[0], random_state=42)\n",
    "    df_fraud.reset_index(drop=True,inplace=True)\n",
    "    df_non_fraud.reset_index(drop=True,inplace=True)\n",
    "    df_final = pd.concat([df_fraud,df_non_fraud],axis=0)\n",
    "    \n",
    "    return df_final"
   ]
  },
  {
   "cell_type": "code",
   "execution_count": 4,
   "id": "c64e0c6a",
   "metadata": {},
   "outputs": [],
   "source": [
    "def feature_engineering(df_final):\n",
    "    df_final.reset_index(drop=True,inplace=True)\n",
    "    df_final['age']=pd.to_datetime(df_final['trans_date_trans_time']).dt.year-pd.to_datetime(df_final['dob']).dt.year\n",
    "    df_final['hour']=pd.to_datetime(df_final['trans_date_trans_time']).dt.hour\n",
    "    df_final['day']=pd.to_datetime(df_final['trans_date_trans_time']).dt.dayofweek\n",
    "    df_final['month']=pd.to_datetime(df_final['trans_date_trans_time']).dt.month\n",
    "    \n",
    "    df_final = df_final[['category','amt','zip','lat','long','city_pop','merch_lat','merch_long','age','hour','day','month','is_fraud']]\n",
    "    return df_final"
   ]
  },
  {
   "cell_type": "code",
   "execution_count": 5,
   "id": "b134c773",
   "metadata": {},
   "outputs": [],
   "source": [
    "df_final = data_read()\n",
    "df_final = undersampling(df_final)\n",
    "df_final = feature_engineering(df_final)"
   ]
  },
  {
   "cell_type": "code",
   "execution_count": 6,
   "id": "87c682de",
   "metadata": {},
   "outputs": [],
   "source": [
    "df_final.to_csv('/data/prepared.csv',index=False)"
   ]
  },
  {
   "cell_type": "code",
   "execution_count": null,
   "id": "afbdb7ac",
   "metadata": {},
   "outputs": [],
   "source": []
  }
 ],
 "metadata": {
  "kernelspec": {
   "display_name": "Python 3",
   "language": "python",
   "name": "python3"
  },
  "language_info": {
   "codemirror_mode": {
    "name": "ipython",
    "version": 3
   },
   "file_extension": ".py",
   "mimetype": "text/x-python",
   "name": "python",
   "nbconvert_exporter": "python",
   "pygments_lexer": "ipython3",
   "version": "3.6.15"
  }
 },
 "nbformat": 4,
 "nbformat_minor": 5
}
