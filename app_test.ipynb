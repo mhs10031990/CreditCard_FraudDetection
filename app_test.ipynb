{
 "cells": [
  {
   "cell_type": "code",
   "execution_count": 3,
   "id": "3762fef6",
   "metadata": {},
   "outputs": [],
   "source": [
    "import requests\n",
    "headers={\"Content-type\":\"application/json\"}\n",
    "payload = [50000, 28611, 35.9946, -81.7266, 880000, 36.430124, -81.17948299999998, 1, 1, 1, 8, 'grocery_pos']\n",
    "url = 'http://svc-e5a99d50-7723-47a5-8ac6-bd5c9bae793c:5001/creditcardfrauddetectionmodel/b662fba5-4e6c-4fd9-872b-83fbdff39018/score'\n",
    "data={\"payload\" : payload}\n",
    "response_json = requests.post(url, json=data, headers=headers)\n",
    "response_json = requests.post(url, json=data, headers=headers)\n",
    "    st.text_input(\"API Response: \",response_json.content)\n",
    "    response = response_json.json()\n",
    "    try:\n",
    "        return response['upload_logging_data']['response_data']\n",
    "    except ValueError:\n",
    "        return response.status_code"
   ]
  },
  {
   "cell_type": "code",
   "execution_count": 4,
   "id": "d64ecf02",
   "metadata": {},
   "outputs": [
    {
     "data": {
      "text/plain": [
       "200"
      ]
     },
     "execution_count": 4,
     "metadata": {},
     "output_type": "execute_result"
    }
   ],
   "source": [
    "response_json.status_code"
   ]
  },
  {
   "cell_type": "code",
   "execution_count": 8,
   "id": "6d9f7f39",
   "metadata": {},
   "outputs": [
    {
     "data": {
      "text/plain": [
       "b'{\"data\": \"Non Fraud Transcation\", \"request_id\": \"af753dda-05f5-4104-ae9f-de3edb547435\", \"upload_logging_data\": {\"end_time\": \"2023-04-19 09:30:41.948489\", \"feedback\": \"\", \"model_id\": \"b662fba5-4e6c-4fd9-872b-83fbdff39018\", \"request_id\": \"af753dda-05f5-4104-ae9f-de3edb547435\", \"response_data\": \"Non Fraud Transcation\", \"start_time\": \"2023-04-19 09:30:41.929917\", \"status\": \"Success\", \"status_code\": 200, \"version_id\": \"01bfdd5c-b520-44c1-b894-1bf2f231a36e\"}}'"
      ]
     },
     "execution_count": 8,
     "metadata": {},
     "output_type": "execute_result"
    }
   ],
   "source": [
    "response_json.content"
   ]
  },
  {
   "cell_type": "code",
   "execution_count": null,
   "id": "5f9b7824",
   "metadata": {},
   "outputs": [],
   "source": []
  }
 ],
 "metadata": {
  "kernelspec": {
   "display_name": "Python 3",
   "language": "python",
   "name": "python3"
  },
  "language_info": {
   "codemirror_mode": {
    "name": "ipython",
    "version": 3
   },
   "file_extension": ".py",
   "mimetype": "text/x-python",
   "name": "python",
   "nbconvert_exporter": "python",
   "pygments_lexer": "ipython3",
   "version": "3.6.15"
  }
 },
 "nbformat": 4,
 "nbformat_minor": 5
}
