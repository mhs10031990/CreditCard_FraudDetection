{
 "cells": [
  {
   "cell_type": "code",
   "execution_count": 1,
   "id": "5b580c78",
   "metadata": {},
   "outputs": [],
   "source": [
    "import pandas as pd\n",
    "import datetime as dt\n",
    "from sklearn.model_selection import train_test_split,RandomizedSearchCV\n",
    "from sklearn.metrics import confusion_matrix,classification_report, auc, roc_auc_score\n",
    "from sklearn.preprocessing import OneHotEncoder\n",
    "from sklearn.ensemble import RandomForestClassifier\n",
    "import warnings\n",
    "warnings.filterwarnings('ignore')"
   ]
  },
  {
   "cell_type": "code",
   "execution_count": 2,
   "id": "6319dbce",
   "metadata": {},
   "outputs": [],
   "source": [
    "def read_prepared_data():\n",
    "    df_final = pd.read_csv(\"/data/prepared.csv\")\n",
    "    return df_final"
   ]
  },
  {
   "cell_type": "code",
   "execution_count": 3,
   "id": "a56b2b50",
   "metadata": {},
   "outputs": [],
   "source": [
    "def train_test(df_final):\n",
    "    X = df_final.drop(columns='is_fraud')\n",
    "    y = df_final['is_fraud']\n",
    "    X_train, X_test, y_train, y_test = train_test_split(X,y,test_size=0.2, random_state=42,stratify = y)\n",
    "    global encoder\n",
    "    X_train.reset_index(drop=True,inplace=True)\n",
    "    encoder = OneHotEncoder(sparse=False,drop='first')\n",
    "    df_encoded = pd.DataFrame (encoder.fit_transform(X_train[['category']]))\n",
    "    df_encoded.columns = encoder.get_feature_names(['category'])\n",
    "    X_train.drop(['category'] ,axis=1, inplace=True)\n",
    "    X_train= pd.concat([X_train, df_encoded ], axis=1)\n",
    "    \n",
    "    X_test.reset_index(drop=True,inplace=True)\n",
    "    df_encoded = pd.DataFrame (encoder.transform(X_test[['category']]))\n",
    "    df_encoded.columns = encoder.get_feature_names(['category'])\n",
    "    X_test.drop(['category'] ,axis=1, inplace=True)\n",
    "    X_test= pd.concat([X_test, df_encoded ], axis=1)\n",
    "    \n",
    "    return X_train, X_test, y_train, y_test\n",
    "    "
   ]
  },
  {
   "cell_type": "code",
   "execution_count": 4,
   "id": "a77310ed",
   "metadata": {},
   "outputs": [],
   "source": [
    "def hyper_parameter_tunning(X_train, X_test, y_train, y_test):\n",
    "    n_estimators = [100,200,300,50,500,400]\n",
    "    max_features = [0.3,0.2,0.7,1.0,0.6,0.8,0.9]\n",
    "    max_depth = [10,5,8,None]\n",
    "    max_samples = [0.25,0.50,0.75,1.0,0.85]\n",
    "    bootstrap = [True, False]\n",
    "    \n",
    "    grid_param = {\n",
    "    'n_estimators':n_estimators,\n",
    "    \"max_features\":max_features,\n",
    "    \"max_depth\":max_depth,\n",
    "    \"bootstrap\":bootstrap\n",
    "    }\n",
    "    random_forest_grid = RandomizedSearchCV(estimator=RandomForestClassifier(),\n",
    "                                           param_distributions=grid_param,\n",
    "                                           cv=5,\n",
    "                                           verbose=2,\n",
    "                                           n_jobs=-1,random_state=42)\n",
    "    random_forest_grid.fit(X_train,y_train)\n",
    "\n",
    "    print(\"best param\\n\",random_forest_grid.best_params_)\n",
    "    print(\"best score\\n\",random_forest_grid.best_score_)\n",
    "    predicted = random_forest_grid.predict(X_test)\n",
    "    print('Classification report:\\n', classification_report(y_test, predicted))\n",
    "    conf_mat = confusion_matrix(y_true=y_test, y_pred=predicted)\n",
    "    print('Confusion matrix:\\n', conf_mat)\n",
    "    \n",
    "    return random_forest_grid\n",
    "    \n"
   ]
  },
  {
   "cell_type": "code",
   "execution_count": 5,
   "id": "d5424bf7",
   "metadata": {},
   "outputs": [],
   "source": [
    "df_final = read_prepared_data()\n",
    "X_train, X_test, y_train, y_test = train_test(df_final)\n",
    "# random_forest_grid = hyper_parameter_tunning(X_train, X_test, y_train, y_test)"
   ]
  },
  {
   "cell_type": "code",
   "execution_count": 9,
   "id": "276aa0d8",
   "metadata": {},
   "outputs": [],
   "source": [
    "def train_test(df_final):\n",
    "    X = df_final.drop(columns='is_fraud')\n",
    "    y = df_final['is_fraud']\n",
    "    global encoder\n",
    "    X.reset_index(drop=True,inplace=True)\n",
    "    encoder = OneHotEncoder(sparse=False,drop='first')\n",
    "    df_encoded = pd.DataFrame (encoder.fit_transform(X[['category']]))\n",
    "    df_encoded.columns = encoder.get_feature_names(['category'])\n",
    "    X.drop(['category'] ,axis=1, inplace=True)\n",
    "    X= pd.concat([X, df_encoded ], axis=1)\n",
    "    \n",
    "    return X, y"
   ]
  },
  {
   "cell_type": "code",
   "execution_count": 11,
   "id": "e0542884",
   "metadata": {},
   "outputs": [],
   "source": [
    "df_train, Y = train_test(df_final)"
   ]
  },
  {
   "cell_type": "code",
   "execution_count": 13,
   "id": "1fc5fc48",
   "metadata": {},
   "outputs": [],
   "source": [
    "predicted=randforest_model_V1.predict(df_train)"
   ]
  },
  {
   "cell_type": "code",
   "execution_count": 15,
   "id": "a1363724",
   "metadata": {},
   "outputs": [],
   "source": [
    "df_final[\"IS_FRAUD\"] = Y\n",
    "df_final[\"PREDICTED\"] = predicted"
   ]
  },
  {
   "cell_type": "code",
   "execution_count": 16,
   "id": "b5df1c68",
   "metadata": {},
   "outputs": [
    {
     "data": {
      "text/html": [
       "<div>\n",
       "<style scoped>\n",
       "    .dataframe tbody tr th:only-of-type {\n",
       "        vertical-align: middle;\n",
       "    }\n",
       "\n",
       "    .dataframe tbody tr th {\n",
       "        vertical-align: top;\n",
       "    }\n",
       "\n",
       "    .dataframe thead th {\n",
       "        text-align: right;\n",
       "    }\n",
       "</style>\n",
       "<table border=\"1\" class=\"dataframe\">\n",
       "  <thead>\n",
       "    <tr style=\"text-align: right;\">\n",
       "      <th></th>\n",
       "      <th>category</th>\n",
       "      <th>amt</th>\n",
       "      <th>zip</th>\n",
       "      <th>lat</th>\n",
       "      <th>long</th>\n",
       "      <th>city_pop</th>\n",
       "      <th>merch_lat</th>\n",
       "      <th>merch_long</th>\n",
       "      <th>age</th>\n",
       "      <th>hour</th>\n",
       "      <th>day</th>\n",
       "      <th>month</th>\n",
       "      <th>is_fraud</th>\n",
       "      <th>IS_FRAUD</th>\n",
       "      <th>PREDICTED</th>\n",
       "    </tr>\n",
       "  </thead>\n",
       "  <tbody>\n",
       "    <tr>\n",
       "      <th>0</th>\n",
       "      <td>grocery_pos</td>\n",
       "      <td>281.06</td>\n",
       "      <td>28611</td>\n",
       "      <td>35.9946</td>\n",
       "      <td>-81.7266</td>\n",
       "      <td>885</td>\n",
       "      <td>36.430124</td>\n",
       "      <td>-81.179483</td>\n",
       "      <td>31</td>\n",
       "      <td>1</td>\n",
       "      <td>2</td>\n",
       "      <td>1</td>\n",
       "      <td>1</td>\n",
       "      <td>1</td>\n",
       "      <td>1</td>\n",
       "    </tr>\n",
       "    <tr>\n",
       "      <th>1</th>\n",
       "      <td>gas_transport</td>\n",
       "      <td>11.52</td>\n",
       "      <td>78208</td>\n",
       "      <td>29.4400</td>\n",
       "      <td>-98.4590</td>\n",
       "      <td>1595797</td>\n",
       "      <td>29.819364</td>\n",
       "      <td>-99.142791</td>\n",
       "      <td>59</td>\n",
       "      <td>1</td>\n",
       "      <td>2</td>\n",
       "      <td>1</td>\n",
       "      <td>1</td>\n",
       "      <td>1</td>\n",
       "      <td>1</td>\n",
       "    </tr>\n",
       "    <tr>\n",
       "      <th>2</th>\n",
       "      <td>grocery_pos</td>\n",
       "      <td>276.31</td>\n",
       "      <td>78208</td>\n",
       "      <td>29.4400</td>\n",
       "      <td>-98.4590</td>\n",
       "      <td>1595797</td>\n",
       "      <td>29.273085</td>\n",
       "      <td>-98.836360</td>\n",
       "      <td>59</td>\n",
       "      <td>3</td>\n",
       "      <td>2</td>\n",
       "      <td>1</td>\n",
       "      <td>1</td>\n",
       "      <td>1</td>\n",
       "      <td>1</td>\n",
       "    </tr>\n",
       "    <tr>\n",
       "      <th>3</th>\n",
       "      <td>gas_transport</td>\n",
       "      <td>7.03</td>\n",
       "      <td>28611</td>\n",
       "      <td>35.9946</td>\n",
       "      <td>-81.7266</td>\n",
       "      <td>885</td>\n",
       "      <td>35.909292</td>\n",
       "      <td>-82.091010</td>\n",
       "      <td>31</td>\n",
       "      <td>3</td>\n",
       "      <td>2</td>\n",
       "      <td>1</td>\n",
       "      <td>1</td>\n",
       "      <td>1</td>\n",
       "      <td>1</td>\n",
       "    </tr>\n",
       "    <tr>\n",
       "      <th>4</th>\n",
       "      <td>grocery_pos</td>\n",
       "      <td>275.73</td>\n",
       "      <td>78208</td>\n",
       "      <td>29.4400</td>\n",
       "      <td>-98.4590</td>\n",
       "      <td>1595797</td>\n",
       "      <td>29.786426</td>\n",
       "      <td>-98.683410</td>\n",
       "      <td>59</td>\n",
       "      <td>3</td>\n",
       "      <td>2</td>\n",
       "      <td>1</td>\n",
       "      <td>1</td>\n",
       "      <td>1</td>\n",
       "      <td>1</td>\n",
       "    </tr>\n",
       "  </tbody>\n",
       "</table>\n",
       "</div>"
      ],
      "text/plain": [
       "        category     amt    zip      lat     long  city_pop  merch_lat  \\\n",
       "0    grocery_pos  281.06  28611  35.9946 -81.7266       885  36.430124   \n",
       "1  gas_transport   11.52  78208  29.4400 -98.4590   1595797  29.819364   \n",
       "2    grocery_pos  276.31  78208  29.4400 -98.4590   1595797  29.273085   \n",
       "3  gas_transport    7.03  28611  35.9946 -81.7266       885  35.909292   \n",
       "4    grocery_pos  275.73  78208  29.4400 -98.4590   1595797  29.786426   \n",
       "\n",
       "   merch_long  age  hour  day  month  is_fraud  IS_FRAUD  PREDICTED  \n",
       "0  -81.179483   31     1    2      1         1         1          1  \n",
       "1  -99.142791   59     1    2      1         1         1          1  \n",
       "2  -98.836360   59     3    2      1         1         1          1  \n",
       "3  -82.091010   31     3    2      1         1         1          1  \n",
       "4  -98.683410   59     3    2      1         1         1          1  "
      ]
     },
     "execution_count": 16,
     "metadata": {},
     "output_type": "execute_result"
    }
   ],
   "source": [
    "df_final.head()"
   ]
  },
  {
   "cell_type": "code",
   "execution_count": 18,
   "id": "ef2dec9e",
   "metadata": {},
   "outputs": [],
   "source": [
    "df_final.to_csv(\"/data/CREDIT_FRAUD_INFERED.csv\", index=False)"
   ]
  },
  {
   "cell_type": "code",
   "execution_count": 19,
   "id": "50c877e5",
   "metadata": {},
   "outputs": [],
   "source": [
    "drift_old = df_final.head(3000).to_csv(\"/data/drift_old.csv\", index=False)\n",
    "drift_new = df_final.tail(3000).to_csv(\"/data/drift_new.csv\", index=False)"
   ]
  },
  {
   "cell_type": "code",
   "execution_count": 6,
   "id": "0cd8db84",
   "metadata": {},
   "outputs": [
    {
     "name": "stdout",
     "output_type": "stream",
     "text": [
      "Classification report:\n",
      "               precision    recall  f1-score   support\n",
      "\n",
      "           0       0.92      0.93      0.92      1931\n",
      "           1       0.93      0.92      0.92      1930\n",
      "\n",
      "    accuracy                           0.92      3861\n",
      "   macro avg       0.92      0.92      0.92      3861\n",
      "weighted avg       0.92      0.92      0.92      3861\n",
      "\n",
      "Confusion matrix:\n",
      " [[1793  138]\n",
      " [ 161 1769]]\n"
     ]
    }
   ],
   "source": [
    "randforest_model_V1 = RandomForestClassifier(n_estimators=3,max_features=0.01,max_depth=None,bootstrap=True,n_jobs=-1)\n",
    "randforest_model_V1.fit(X_train,y_train)\n",
    "predicted=randforest_model_V1.predict(X_test)\n",
    "print('Classification report:\\n', classification_report(y_test, predicted))\n",
    "conf_mat = confusion_matrix(y_true=y_test, y_pred=predicted)\n",
    "print('Confusion matrix:\\n', conf_mat)"
   ]
  },
  {
   "cell_type": "code",
   "execution_count": 7,
   "id": "1c979fbe",
   "metadata": {},
   "outputs": [
    {
     "name": "stdout",
     "output_type": "stream",
     "text": [
      "Classification report:\n",
      "               precision    recall  f1-score   support\n",
      "\n",
      "           0       0.97      0.97      0.97      1931\n",
      "           1       0.97      0.97      0.97      1930\n",
      "\n",
      "    accuracy                           0.97      3861\n",
      "   macro avg       0.97      0.97      0.97      3861\n",
      "weighted avg       0.97      0.97      0.97      3861\n",
      "\n",
      "Confusion matrix:\n",
      " [[1869   62]\n",
      " [  65 1865]]\n"
     ]
    }
   ],
   "source": [
    "randforest_model = RandomForestClassifier(n_estimators=5,max_features=0.2,max_depth=None,bootstrap=True,n_jobs=-1)\n",
    "randforest_model.fit(X_train,y_train)\n",
    "predicted=randforest_model.predict(X_test)\n",
    "print('Classification report:\\n', classification_report(y_test, predicted))\n",
    "conf_mat = confusion_matrix(y_true=y_test, y_pred=predicted)\n",
    "print('Confusion matrix:\\n', conf_mat)"
   ]
  },
  {
   "cell_type": "code",
   "execution_count": null,
   "id": "697cfe4c",
   "metadata": {},
   "outputs": [],
   "source": []
  },
  {
   "cell_type": "code",
   "execution_count": 8,
   "id": "c36ff1e3",
   "metadata": {},
   "outputs": [],
   "source": [
    "from mosaicml import *\n",
    "from mosaicml.constants import MLModelFlavours"
   ]
  },
  {
   "cell_type": "code",
   "execution_count": 9,
   "id": "2695e0b2",
   "metadata": {},
   "outputs": [
    {
     "name": "stdout",
     "output_type": "stream",
     "text": [
      "Raw Payload\n",
      " [281.06, 28611, 35.9946, -81.7266, 885, 36.430124, -81.17948299999998, 31, 1, 2, 1, 'grocery_pos']\n"
     ]
    },
    {
     "data": {
      "text/plain": [
       "[281.06,\n",
       " 28611,\n",
       " 35.9946,\n",
       " -81.7266,\n",
       " 885,\n",
       " 36.430124,\n",
       " -81.17948299999998,\n",
       " 31,\n",
       " 1,\n",
       " 2,\n",
       " 1,\n",
       " 0.0,\n",
       " 0.0,\n",
       " 0.0,\n",
       " 1.0,\n",
       " 0.0,\n",
       " 0.0,\n",
       " 0.0,\n",
       " 0.0,\n",
       " 0.0,\n",
       " 0.0,\n",
       " 0.0,\n",
       " 0.0,\n",
       " 0.0]"
      ]
     },
     "execution_count": 9,
     "metadata": {},
     "output_type": "execute_result"
    }
   ],
   "source": [
    "df_payload = df_final[['amt','zip','lat','long','city_pop','merch_lat','merch_long','age','hour','day','month','category']].copy()\n",
    "payload_list = df_payload.head(1).values.flatten().tolist()\n",
    "print(\"Raw Payload\\n\",payload_list)\n",
    "encoding_cat = encoder.transform([[payload_list[-1]]])\n",
    "payload = payload_list[:-1]+list(encoding_cat.flat)\n",
    "payload"
   ]
  },
  {
   "cell_type": "code",
   "execution_count": 10,
   "id": "d8c2f166",
   "metadata": {},
   "outputs": [],
   "source": [
    "@scoring_func\n",
    "def score(model, request):\n",
    "    payload_list = request.json[\"payload\"]\n",
    "    encoding_cat = encoder.transform([[payload_list[-1]]])\n",
    "    payload = payload_list[:-1]+list(encoding_cat.flat)\n",
    "    prediction = pd.Series(model.predict([payload]))[0]\n",
    "    return \"Non Fraud Transcation\" if prediction == 0 else \"Fraud Transcation\""
   ]
  },
  {
   "cell_type": "code",
   "execution_count": 11,
   "id": "8594d01c",
   "metadata": {},
   "outputs": [],
   "source": [
    "import requests\n",
    "req = requests.Request()\n",
    "req.json = {\"payload\":payload_list}"
   ]
  },
  {
   "cell_type": "code",
   "execution_count": 12,
   "id": "5228093a",
   "metadata": {},
   "outputs": [
    {
     "data": {
      "text/plain": [
       "'Fraud Transcation'"
      ]
     },
     "execution_count": 12,
     "metadata": {},
     "output_type": "execute_result"
    }
   ],
   "source": [
    "score(randforest_model,req)"
   ]
  },
  {
   "cell_type": "code",
   "execution_count": 13,
   "id": "e28ba839",
   "metadata": {},
   "outputs": [],
   "source": [
    "Y_pred = randforest_model.predict(X_test)\n",
    "y_prob = randforest_model.predict_proba(X_test)[:,1]"
   ]
  },
  {
   "cell_type": "code",
   "execution_count": 14,
   "id": "6d678790",
   "metadata": {},
   "outputs": [],
   "source": [
    "Y_pred_v1 = randforest_model_V1.predict(X_test)\n",
    "y_prob_v1 = randforest_model_V1.predict_proba(X_test)[:,1]"
   ]
  },
  {
   "cell_type": "code",
   "execution_count": 15,
   "id": "a6e3e165",
   "metadata": {},
   "outputs": [
    {
     "name": "stdout",
     "output_type": "stream",
     "text": [
      "Calculating build time metrics\n",
      "\n",
      "Progress: ██████████████████████████████████████████████████████████████████████ 100.0%\n"
     ]
    },
    {
     "data": {
      "application/vnd.jupyter.widget-view+json": {
       "model_id": "ee2fcf480efb490ebf220fb1efb4abf4",
       "version_major": 2,
       "version_minor": 0
      },
      "text/plain": [
       "VBox(children=(HTML(value='<style>.grad_1{background: #2468a4;} .grad_2{ color:white; background: #2468a4;}</s…"
      ]
     },
     "metadata": {},
     "output_type": "display_data"
    }
   ],
   "source": [
    "abc= register_model(randforest_model,\n",
    "score,\n",
    "\"test_registration_model\",\n",
    "\"Classification Undersampling\",\n",
    "MLModelFlavours.sklearn,\n",
    "model_type='classification',\n",
    "init_script=\"pip install scikit-learn==0.24.2 && pip install pandas==1.3.5\",\n",
    "y_true= y_test,\n",
    "y_pred=Y_pred,\n",
    "prob=y_prob,\n",
    "x_test=X_test,\n",
    "y_test=Y_pred,\n",
    "features = X_train.columns.tolist(),\n",
    "original_features= X_train.columns.tolist(),\n",
    "model_display=True,\n",
    "kyd=True,\n",
    "kyd_score=True,\n",
    "explain_ai=True,\n",
    "x_train=X_train,\n",
    "y_train=y_train,\n",
    "feature_names=X_train.columns.tolist(), #()\n",
    "feature_ids=X_train.columns.tolist(),\n",
    "target_names=[0,1]\n",
    ")"
   ]
  },
  {
   "cell_type": "markdown",
   "id": "84edb1c6",
   "metadata": {},
   "source": [
    "#### No Fraud\n",
    "{\"payload\":[4.97,28654,36.0788,-81.1781,3495,3.0112,-82.048315,35,0,1,1,\"misc_net\"]}"
   ]
  },
  {
   "cell_type": "markdown",
   "id": "aa5091c2",
   "metadata": {},
   "source": [
    "##### Fraud\n",
    "{\"payload\": [281.06,28611,35.9946,-81.7266,885,36.430124,-81.17948299999998,31,1,2,1,\"grocery_pos\"]}"
   ]
  }
 ],
 "metadata": {
  "kernelspec": {
   "display_name": "Python 3",
   "language": "python",
   "name": "python3"
  },
  "language_info": {
   "codemirror_mode": {
    "name": "ipython",
    "version": 3
   },
   "file_extension": ".py",
   "mimetype": "text/x-python",
   "name": "python",
   "nbconvert_exporter": "python",
   "pygments_lexer": "ipython3",
   "version": "3.6.15"
  }
 },
 "nbformat": 4,
 "nbformat_minor": 5
}
