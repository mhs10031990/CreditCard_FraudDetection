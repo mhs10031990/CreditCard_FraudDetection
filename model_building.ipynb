{
 "cells": [
  {
   "cell_type": "code",
   "execution_count": 1,
   "id": "5b580c78",
   "metadata": {},
   "outputs": [],
   "source": [
    "import pandas as pd\n",
    "import datetime as dt\n",
    "from sklearn.model_selection import train_test_split,RandomizedSearchCV\n",
    "from sklearn.metrics import confusion_matrix,classification_report, auc, roc_auc_score\n",
    "from sklearn.preprocessing import OneHotEncoder\n",
    "from sklearn.ensemble import RandomForestClassifier\n",
    "import warnings\n",
    "warnings.filterwarnings('ignore')"
   ]
  },
  {
   "cell_type": "code",
   "execution_count": 2,
   "id": "6319dbce",
   "metadata": {},
   "outputs": [],
   "source": [
    "def read_prepared_data():\n",
    "    df_final = pd.read_csv(\"/data/prepared.csv\")\n",
    "    return df_final"
   ]
  },
  {
   "cell_type": "code",
   "execution_count": 3,
   "id": "a56b2b50",
   "metadata": {},
   "outputs": [],
   "source": [
    "def train_test(df_final):\n",
    "    X = df_final.drop(columns='is_fraud')\n",
    "    y = df_final['is_fraud']\n",
    "    X_train, X_test, y_train, y_test = train_test_split(X,y,test_size=0.2, random_state=42,stratify = y)\n",
    "    global encoder\n",
    "    X_train.reset_index(drop=True,inplace=True)\n",
    "    encoder = OneHotEncoder(sparse=False,drop='first')\n",
    "    df_encoded = pd.DataFrame (encoder.fit_transform(X_train[['category']]))\n",
    "    df_encoded.columns = encoder.get_feature_names(['category'])\n",
    "    X_train.drop(['category'] ,axis=1, inplace=True)\n",
    "    X_train= pd.concat([X_train, df_encoded ], axis=1)\n",
    "    \n",
    "    X_test.reset_index(drop=True,inplace=True)\n",
    "    df_encoded = pd.DataFrame (encoder.transform(X_test[['category']]))\n",
    "    df_encoded.columns = encoder.get_feature_names(['category'])\n",
    "    X_test.drop(['category'] ,axis=1, inplace=True)\n",
    "    X_test= pd.concat([X_test, df_encoded ], axis=1)\n",
    "    \n",
    "    return X_train, X_test, y_train, y_test\n",
    "    "
   ]
  },
  {
   "cell_type": "code",
   "execution_count": 4,
   "id": "a77310ed",
   "metadata": {},
   "outputs": [],
   "source": [
    "def hyper_parameter_tunning(X_train, X_test, y_train, y_test):\n",
    "    n_estimators = [100,200,300,50,500,400]\n",
    "    max_features = [0.3,0.2,0.7,1.0,0.6,0.8,0.9]\n",
    "    max_depth = [10,5,8,None]\n",
    "    max_samples = [0.25,0.50,0.75,1.0,0.85]\n",
    "    bootstrap = [True, False]\n",
    "    \n",
    "    grid_param = {\n",
    "    'n_estimators':n_estimators,\n",
    "    \"max_features\":max_features,\n",
    "    \"max_depth\":max_depth,\n",
    "    \"bootstrap\":bootstrap\n",
    "    }\n",
    "    random_forest_grid = RandomizedSearchCV(estimator=RandomForestClassifier(),\n",
    "                                           param_distributions=grid_param,\n",
    "                                           cv=5,\n",
    "                                           verbose=2,\n",
    "                                           n_jobs=-1,random_state=42)\n",
    "    random_forest_grid.fit(X_train,y_train)\n",
    "\n",
    "    print(\"best param\\n\",random_forest_grid.best_params_)\n",
    "    print(\"best score\\n\",random_forest_grid.best_score_)\n",
    "    predicted = random_forest_grid.predict(X_test)\n",
    "    print('Classification report:\\n', classification_report(y_test, predicted))\n",
    "    conf_mat = confusion_matrix(y_true=y_test, y_pred=predicted)\n",
    "    print('Confusion matrix:\\n', conf_mat)\n",
    "    \n",
    "    return random_forest_grid\n",
    "    \n"
   ]
  },
  {
   "cell_type": "code",
   "execution_count": 5,
   "id": "d5424bf7",
   "metadata": {},
   "outputs": [
    {
     "name": "stdout",
     "output_type": "stream",
     "text": [
      "Fitting 5 folds for each of 10 candidates, totalling 50 fits\n",
      "best param\n",
      " {'n_estimators': 300, 'max_features': 0.7, 'max_depth': None, 'bootstrap': True}\n",
      "best score\n",
      " 0.9770741952473847\n",
      "Classification report:\n",
      "               precision    recall  f1-score   support\n",
      "\n",
      "           0       0.98      0.98      0.98      1931\n",
      "           1       0.98      0.98      0.98      1930\n",
      "\n",
      "    accuracy                           0.98      3861\n",
      "   macro avg       0.98      0.98      0.98      3861\n",
      "weighted avg       0.98      0.98      0.98      3861\n",
      "\n",
      "Confusion matrix:\n",
      " [[1901   30]\n",
      " [  29 1901]]\n"
     ]
    }
   ],
   "source": [
    "df_final = read_prepared_data()\n",
    "X_train, X_test, y_train, y_test = train_test(df_final)\n",
    "random_forest_grid = hyper_parameter_tunning(X_train, X_test, y_train, y_test)"
   ]
  },
  {
   "cell_type": "code",
   "execution_count": 6,
   "id": "0cd8db84",
   "metadata": {},
   "outputs": [
    {
     "name": "stdout",
     "output_type": "stream",
     "text": [
      "Classification report:\n",
      "               precision    recall  f1-score   support\n",
      "\n",
      "           0       0.92      0.93      0.92      1931\n",
      "           1       0.93      0.92      0.92      1930\n",
      "\n",
      "    accuracy                           0.92      3861\n",
      "   macro avg       0.92      0.92      0.92      3861\n",
      "weighted avg       0.92      0.92      0.92      3861\n",
      "\n",
      "Confusion matrix:\n",
      " [[1792  139]\n",
      " [ 153 1777]]\n"
     ]
    }
   ],
   "source": [
    "randforest_model_V1 = RandomForestClassifier(n_estimators=3,max_features=0.01,max_depth=None,bootstrap=True,n_jobs=-1)\n",
    "randforest_model_V1.fit(X_train,y_train)\n",
    "predicted=randforest_model_V1.predict(X_test)\n",
    "print('Classification report:\\n', classification_report(y_test, predicted))\n",
    "conf_mat = confusion_matrix(y_true=y_test, y_pred=predicted)\n",
    "print('Confusion matrix:\\n', conf_mat)"
   ]
  },
  {
   "cell_type": "code",
   "execution_count": 7,
   "id": "1c979fbe",
   "metadata": {},
   "outputs": [
    {
     "name": "stdout",
     "output_type": "stream",
     "text": [
      "Classification report:\n",
      "               precision    recall  f1-score   support\n",
      "\n",
      "           0       0.96      0.97      0.97      1931\n",
      "           1       0.97      0.96      0.97      1930\n",
      "\n",
      "    accuracy                           0.97      3861\n",
      "   macro avg       0.97      0.97      0.97      3861\n",
      "weighted avg       0.97      0.97      0.97      3861\n",
      "\n",
      "Confusion matrix:\n",
      " [[1876   55]\n",
      " [  72 1858]]\n"
     ]
    }
   ],
   "source": [
    "randforest_model = RandomForestClassifier(n_estimators=5,max_features=0.2,max_depth=None,bootstrap=True,n_jobs=-1)\n",
    "randforest_model.fit(X_train,y_train)\n",
    "predicted=randforest_model.predict(X_test)\n",
    "print('Classification report:\\n', classification_report(y_test, predicted))\n",
    "conf_mat = confusion_matrix(y_true=y_test, y_pred=predicted)\n",
    "print('Confusion matrix:\\n', conf_mat)"
   ]
  },
  {
   "cell_type": "code",
   "execution_count": 8,
   "id": "c36ff1e3",
   "metadata": {},
   "outputs": [],
   "source": [
    "from mosaicml import *\n",
    "from mosaicml.constants import MLModelFlavours"
   ]
  },
  {
   "cell_type": "code",
   "execution_count": 42,
   "id": "2695e0b2",
   "metadata": {},
   "outputs": [
    {
     "name": "stdout",
     "output_type": "stream",
     "text": [
      "Raw Payload\n",
      " [281.06, 28611, 35.9946, -81.7266, 885, 36.430124, -81.17948299999998, 31, 1, 2, 1, 'grocery_pos']\n"
     ]
    },
    {
     "data": {
      "text/plain": [
       "[281.06,\n",
       " 28611,\n",
       " 35.9946,\n",
       " -81.7266,\n",
       " 885,\n",
       " 36.430124,\n",
       " -81.17948299999998,\n",
       " 31,\n",
       " 1,\n",
       " 2,\n",
       " 1,\n",
       " 0.0,\n",
       " 0.0,\n",
       " 0.0,\n",
       " 1.0,\n",
       " 0.0,\n",
       " 0.0,\n",
       " 0.0,\n",
       " 0.0,\n",
       " 0.0,\n",
       " 0.0,\n",
       " 0.0,\n",
       " 0.0,\n",
       " 0.0]"
      ]
     },
     "execution_count": 42,
     "metadata": {},
     "output_type": "execute_result"
    }
   ],
   "source": [
    "df_payload = df_final[['amt','zip','lat','long','city_pop','merch_lat','merch_long','age','hour','day','month','category']].copy()\n",
    "payload_list = df_payload.head(1).values.flatten().tolist()\n",
    "print(\"Raw Payload\\n\",payload_list)\n",
    "encoding_cat = encoder.transform([[payload_list[-1]]])\n",
    "payload = payload_list[:-1]+list(encoding_cat.flat)\n",
    "payload"
   ]
  },
  {
   "cell_type": "code",
   "execution_count": 43,
   "id": "d8c2f166",
   "metadata": {},
   "outputs": [],
   "source": [
    "@scoring_func\n",
    "def score(model, request):\n",
    "    payload_list = request.json[\"payload\"]\n",
    "    encoding_cat = encoder.transform([[payload_list[-1]]])\n",
    "    payload = payload_list[:-1]+list(encoding_cat.flat)\n",
    "    prediction = pd.Series(model.predict([payload]))[0]\n",
    "    return \"Non Fraud Transcation\" if prediction == 0 else \"Fraud Transcation\""
   ]
  },
  {
   "cell_type": "code",
   "execution_count": 44,
   "id": "8594d01c",
   "metadata": {},
   "outputs": [],
   "source": [
    "import requests\n",
    "req = requests.Request()\n",
    "req.json = {\"payload\":payload_list}"
   ]
  },
  {
   "cell_type": "code",
   "execution_count": 45,
   "id": "5228093a",
   "metadata": {},
   "outputs": [
    {
     "data": {
      "text/plain": [
       "'Fraud Transcation'"
      ]
     },
     "execution_count": 45,
     "metadata": {},
     "output_type": "execute_result"
    }
   ],
   "source": [
    "score(randforest_model,req)"
   ]
  },
  {
   "cell_type": "code",
   "execution_count": 46,
   "id": "e28ba839",
   "metadata": {},
   "outputs": [],
   "source": [
    "Y_pred = randforest_model.predict(X_test)\n",
    "y_prob = randforest_model.predict_proba(X_test)[:,1]"
   ]
  },
  {
   "cell_type": "code",
   "execution_count": 47,
   "id": "6d678790",
   "metadata": {},
   "outputs": [],
   "source": [
    "Y_pred_v1 = randforest_model_V1.predict(X_test)\n",
    "y_prob_v1 = randforest_model_V1.predict_proba(X_test)[:,1]"
   ]
  },
  {
   "cell_type": "code",
   "execution_count": 48,
   "id": "a6e3e165",
   "metadata": {},
   "outputs": [
    {
     "name": "stdout",
     "output_type": "stream",
     "text": [
      "Calculating build time metrics\n",
      "\n",
      "Progress: ██████████████████████████████████████████████████████████████████████ 100.0%\n"
     ]
    },
    {
     "data": {
      "application/vnd.jupyter.widget-view+json": {
       "model_id": "ca3d0a4e92804ca9bbf6acba88cbffd9",
       "version_major": 2,
       "version_minor": 0
      },
      "text/plain": [
       "VBox(children=(HTML(value='<style>.grad_1{background: #2468a4;} .grad_2{ color:white; background: #2468a4;}</s…"
      ]
     },
     "metadata": {},
     "output_type": "display_data"
    }
   ],
   "source": [
    "abc= register_model(randforest_model,\n",
    "score,\n",
    "\"Credit_Card_Fraud_Detection_Model\",\n",
    "\"Classification Undersampling\",\n",
    "MLModelFlavours.sklearn,\n",
    "model_type='classification',\n",
    "init_script=\"pip install scikit-learn==0.24.2 && pip install pandas==1.3.5\",\n",
    "y_true= y_test,\n",
    "y_pred=Y_pred,\n",
    "prob=y_prob,\n",
    "x_test=X_test,\n",
    "y_test=Y_pred,\n",
    "features = X_train.columns.tolist(),\n",
    "original_features= X_train.columns.tolist(),\n",
    "model_display=True,\n",
    "kyd=True,\n",
    "kyd_score=True,\n",
    "explain_ai=True,\n",
    "x_train=X_train,\n",
    "y_train=y_train,\n",
    "feature_names=X_train.columns.tolist(), #()\n",
    "feature_ids=X_train.columns.tolist(),\n",
    "target_names=[0,1]\n",
    ")"
   ]
  },
  {
   "cell_type": "markdown",
   "id": "84edb1c6",
   "metadata": {},
   "source": [
    "#### No Fraud\n",
    "{\"payload\":[4.97,28654,36.0788,-81.1781,3495,3.0112,-82.048315,35,0,1,1,\"misc_net\"]}"
   ]
  },
  {
   "cell_type": "markdown",
   "id": "aa5091c2",
   "metadata": {},
   "source": [
    "##### Fraud\n",
    "{\"payload\": [281.06,28611,35.9946,-81.7266,885,36.430124,-81.17948299999998,31,1,2,1,\"grocery_pos\"]}"
   ]
  }
 ],
 "metadata": {
  "kernelspec": {
   "display_name": "Python 3",
   "language": "python",
   "name": "python3"
  },
  "language_info": {
   "codemirror_mode": {
    "name": "ipython",
    "version": 3
   },
   "file_extension": ".py",
   "mimetype": "text/x-python",
   "name": "python",
   "nbconvert_exporter": "python",
   "pygments_lexer": "ipython3",
   "version": "3.6.15"
  }
 },
 "nbformat": 4,
 "nbformat_minor": 5
}
