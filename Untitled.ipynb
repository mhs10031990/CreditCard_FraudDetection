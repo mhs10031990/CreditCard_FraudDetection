{
 "cells": [
  {
   "cell_type": "code",
   "execution_count": 1,
   "id": "1d88f8a5",
   "metadata": {},
   "outputs": [],
   "source": [
    "# !pip install '/data/snowflake_ml_python-0.2.3-py3-none-any.whl'\n",
    "# !pip install refractml\n",
    "# !pip install matplotlib\n",
    "# !pip install seaborn\n",
    "# !pip uninstall pandas -y\n",
    "# !pip install pandas==1.5.3"
   ]
  },
  {
   "cell_type": "code",
   "execution_count": 4,
   "id": "5b7f9b9a",
   "metadata": {},
   "outputs": [],
   "source": [
    "import snowflake.connector\n",
    "import snowflake.snowpark\n",
    "import snowflake.ml.preprocessing as snowml\n",
    "from snowflake.snowpark import Session\n",
    "from snowflake.snowpark.version import VERSION\n",
    "from snowflake.ml.utils import connection_params\n",
    "from snowflake.ml.metrics.correlation import correlation\n",
    "from snowflake.connector.pandas_tools import write_pandas\n",
    "from snowflake.ml.framework.pipeline import Pipeline\n",
    "from snowflake.ml.modeling.xgboost import XGBClassifier\n",
    "from snowflake.ml.modeling.ensemble import RandomForestClassifier\n",
    "from snowflake.ml.preprocessing import MinMaxScaler, OneHotEncoder, OrdinalEncoder\n",
    "from snowflake.ml.modeling.model_selection import GridSearchCV\n",
    "from sklearn.metrics import mean_absolute_percentage_error\n",
    "import numpy as np\n",
    "import pandas as pd\n",
    "import configparser\n",
    "import warnings; warnings.simplefilter('ignore')\n",
    "from snowflake.ml.preprocessing import StandardScaler, OneHotEncoder"
   ]
  },
  {
   "cell_type": "code",
   "execution_count": 5,
   "id": "164c1234",
   "metadata": {},
   "outputs": [
    {
     "name": "stdout",
     "output_type": "stream",
     "text": [
      "connection successful!\n"
     ]
    }
   ],
   "source": [
    "config = configparser.ConfigParser()\n",
    "config.read(\"snowflake_connection.ini\")\n",
    "\n",
    "connection_parameters = {\n",
    "    \"user\": f'{config[\"Snowflake\"][\"user\"]}',\n",
    "    \"password\": f'{config[\"Snowflake\"][\"password\"]}',\n",
    "    \"account\": f'{config[\"Snowflake\"][\"account\"]}',\n",
    "    \"WAREHOUSE\": f'{config[\"Snowflake\"][\"WAREHOUSE\"]}',\n",
    "    \"DATABASE\": f'{config[\"Snowflake\"][\"DATABASE\"]}',\n",
    "    \"SCHEMA\": f'SALES'\n",
    "}\n",
    "\n",
    "def snowflake_connector(conn):\n",
    "    try:\n",
    "        session = Session.builder.configs(conn).create()\n",
    "        print(\"connection successful!\")\n",
    "    except:\n",
    "        raise ValueError(\"error while connecting with db\")\n",
    "    return session\n",
    "\n",
    "session = snowflake_connector(connection_parameters)"
   ]
  },
  {
   "cell_type": "code",
   "execution_count": 6,
   "id": "ea0607ba",
   "metadata": {},
   "outputs": [
    {
     "name": "stdout",
     "output_type": "stream",
     "text": [
      "cc_fraudtest.csv\r\n",
      "cc_fraudtrain.csv\r\n",
      "credit_transaction_history.csv\r\n",
      "credit_transaction_history_data_prep.csv\r\n",
      "data_profile.html\r\n",
      "loan_application_master.csv\r\n",
      "prepared.csv\r\n",
      "snowflake_ml_python-0.2.3-py3-none-any.whl\r\n",
      "y_train.csv\r\n"
     ]
    }
   ],
   "source": [
    "!ls /data"
   ]
  },
  {
   "cell_type": "code",
   "execution_count": null,
   "id": "9af2431a",
   "metadata": {},
   "outputs": [],
   "source": [
    "# code to write data to snowflake table\n",
    "df = pd.read_csv(\"/data/prepared.csv\")\n",
    "df.columns = map(str.upper, df.columns)\n",
    "session.write_pandas(df, table_name=\"ATTRITION\", auto_create_table=True)"
   ]
  }
 ],
 "metadata": {
  "kernelspec": {
   "display_name": "Python 3",
   "language": "python",
   "name": "python3"
  },
  "language_info": {
   "codemirror_mode": {
    "name": "ipython",
    "version": 3
   },
   "file_extension": ".py",
   "mimetype": "text/x-python",
   "name": "python",
   "nbconvert_exporter": "python",
   "pygments_lexer": "ipython3",
   "version": "3.8.16"
  }
 },
 "nbformat": 4,
 "nbformat_minor": 5
}
