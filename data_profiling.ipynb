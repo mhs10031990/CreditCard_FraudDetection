{
 "cells": [
  {
   "cell_type": "code",
   "execution_count": null,
   "id": "d22edb9e",
   "metadata": {},
   "outputs": [],
   "source": [
    "import pandas as pd\n",
    "from pandas_profiling import ProfileReport"
   ]
  },
  {
   "cell_type": "code",
   "execution_count": null,
   "id": "946b7bce",
   "metadata": {},
   "outputs": [],
   "source": [
    "#df = pd.read_csv('/data/CC_fraudTrain.csv')\n",
    "df = pd.read_csv('/data/prepared.csv')"
   ]
  },
  {
   "cell_type": "code",
   "execution_count": null,
   "id": "a4670c79",
   "metadata": {},
   "outputs": [],
   "source": [
    "#df.drop('Unnamed: 0', inplace=True, axis=1)"
   ]
  },
  {
   "cell_type": "code",
   "execution_count": null,
   "id": "3adb7fa7",
   "metadata": {},
   "outputs": [],
   "source": [
    "df.head()"
   ]
  },
  {
   "cell_type": "code",
   "execution_count": null,
   "id": "ac1e2fe2",
   "metadata": {},
   "outputs": [],
   "source": [
    "df.shape"
   ]
  },
  {
   "cell_type": "code",
   "execution_count": null,
   "id": "e9548e92",
   "metadata": {},
   "outputs": [],
   "source": [
    "profile = ProfileReport(df,\n",
    "                       title=\"Credit Fraud dataset\",\n",
    "                       dataset={\n",
    "        \"description\": \"This dataset is about to credit card fraud and which include around 21 feature and 1 target.\",\n",
    "        \"Date\": \"27th December 2021\",\n",
    "        \"Source\": \"Kaggle\",\n",
    "    })"
   ]
  },
  {
   "cell_type": "code",
   "execution_count": null,
   "id": "6763132c",
   "metadata": {},
   "outputs": [],
   "source": [
    "profile"
   ]
  },
  {
   "cell_type": "code",
   "execution_count": null,
   "id": "6711c0b9",
   "metadata": {},
   "outputs": [],
   "source": [
    "profile.to_file(\"/data/data_profile.html\")"
   ]
  }
 ],
 "metadata": {
  "kernelspec": {
   "display_name": "Python 3",
   "language": "python",
   "name": "python3"
  },
  "language_info": {
   "codemirror_mode": {
    "name": "ipython",
    "version": 3
   },
   "file_extension": ".py",
   "mimetype": "text/x-python",
   "name": "python",
   "nbconvert_exporter": "python",
   "pygments_lexer": "ipython3",
   "version": "3.6.15"
  }
 },
 "nbformat": 4,
 "nbformat_minor": 5
}
