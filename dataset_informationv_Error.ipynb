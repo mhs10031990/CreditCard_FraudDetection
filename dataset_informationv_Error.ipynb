{
 "cells": [
  {
   "cell_type": "code",
   "execution_count": 1,
   "id": "f5a62169",
   "metadata": {},
   "outputs": [
    {
     "ename": "NameError",
     "evalue": "name 'd' is not defined",
     "output_type": "error",
     "traceback": [
      "\u001b[0;31m---------------------------------------------------------------------------\u001b[0m",
      "\u001b[0;31mNameError\u001b[0m                                 Traceback (most recent call last)",
      "\u001b[0;32m<ipython-input-1-338dff6ab3d1>\u001b[0m in \u001b[0;36m<module>\u001b[0;34m\u001b[0m\n\u001b[1;32m      1\u001b[0m \u001b[0ma\u001b[0m \u001b[0;34m=\u001b[0m \u001b[0;36m10\u001b[0m\u001b[0;34m\u001b[0m\u001b[0;34m\u001b[0m\u001b[0m\n\u001b[1;32m      2\u001b[0m \u001b[0mb\u001b[0m \u001b[0;34m=\u001b[0m \u001b[0;36m40\u001b[0m\u001b[0;34m\u001b[0m\u001b[0;34m\u001b[0m\u001b[0m\n\u001b[0;32m----> 3\u001b[0;31m \u001b[0mc\u001b[0m \u001b[0;34m=\u001b[0m \u001b[0md\u001b[0m\u001b[0;34m/\u001b[0m\u001b[0mf\u001b[0m\u001b[0;34m\u001b[0m\u001b[0;34m\u001b[0m\u001b[0m\n\u001b[0m",
      "\u001b[0;31mNameError\u001b[0m: name 'd' is not defined"
     ]
    }
   ],
   "source": [
    "a = 10\n",
    "b = 40\n",
    "c = d/f"
   ]
  },
  {
   "cell_type": "markdown",
   "id": "39c3ac01",
   "metadata": {},
   "source": [
    "# Brief Introduction\n"
   ]
  },
  {
   "cell_type": "markdown",
   "id": "3d39ed39",
   "metadata": {},
   "source": [
    "These days every business suffers from the fraud. Not a single business is fully immune to fraud. This dataset is about to credit card fraud and which include around 21 feature and 1 target. The business problem is to detect credit card fraud transcation from millions of transaction."
   ]
  },
  {
   "cell_type": "markdown",
   "id": "1140f2f3",
   "metadata": {},
   "source": [
    "### we have following features\n",
    "1. trans_date_trans_time: this is transcation time\n",
    "2. cc_num: This is credit card number used for transction\n",
    "3. merchant: Name of marchant where transction happened\n",
    "4. category: \n",
    "5. amt: This refers to the amount of transcation\n",
    "6. first: First name of the card owner\n",
    "7. last: Last Name of the card owner\n",
    "8. gender: Gender of card holder\n",
    "9. is_fraud: This will our target variable. This indicate that given transcation is fraud or not.\n",
    "10. there are other features as well which are prety self explaintory which include city, zip, state, street and etc"
   ]
  },
  {
   "cell_type": "code",
   "execution_count": null,
   "id": "f7024478",
   "metadata": {},
   "outputs": [],
   "source": []
  }
 ],
 "metadata": {
  "kernelspec": {
   "display_name": "Python 3",
   "language": "python",
   "name": "python3"
  },
  "language_info": {
   "codemirror_mode": {
    "name": "ipython",
    "version": 3
   },
   "file_extension": ".py",
   "mimetype": "text/x-python",
   "name": "python",
   "nbconvert_exporter": "python",
   "pygments_lexer": "ipython3",
   "version": "3.6.15"
  }
 },
 "nbformat": 4,
 "nbformat_minor": 5
}
