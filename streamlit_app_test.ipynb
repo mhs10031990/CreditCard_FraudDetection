{
 "cells": [
  {
   "cell_type": "code",
   "execution_count": 1,
   "id": "a8b73771",
   "metadata": {},
   "outputs": [],
   "source": [
    "import requests"
   ]
  },
  {
   "cell_type": "code",
   "execution_count": 2,
   "id": "9eea1b8d",
   "metadata": {},
   "outputs": [],
   "source": [
    "payload = [4.97,28654,36.0788,-81.1781,3495,3.0112,-82.048315,35,0,1,1,\"misc_net\"]"
   ]
  },
  {
   "cell_type": "code",
   "execution_count": 4,
   "id": "480beb7b",
   "metadata": {},
   "outputs": [],
   "source": [
    "headers={\"Content-type\":\"application/json\"}\n",
    "url = 'http://svc-8b6ea9ed-6c00-464a-a1a1-63529b992d58:5001/ccfrauddetectionmodel/6d176a03-54ee-4d02-ae2d-c588311e3967/score'\n",
    "\n",
    "score_input = {\"payload\" : payload}\n",
    "# st.text_input(\"Model Payload\", score_input)\n",
    "response_json = requests.post(url, json=score_input, headers=headers)\n",
    "#st.text_input(\"API Response: \",response_json.content)\n",
    "response = response_json.json()"
   ]
  },
  {
   "cell_type": "code",
   "execution_count": 5,
   "id": "c35b80a8",
   "metadata": {},
   "outputs": [
    {
     "data": {
      "text/plain": [
       "200"
      ]
     },
     "execution_count": 5,
     "metadata": {},
     "output_type": "execute_result"
    }
   ],
   "source": [
    "response_json.status_code"
   ]
  },
  {
   "cell_type": "code",
   "execution_count": 7,
   "id": "d72ce7aa",
   "metadata": {},
   "outputs": [
    {
     "data": {
      "text/plain": [
       "'Non Fraud Transcation'"
      ]
     },
     "execution_count": 7,
     "metadata": {},
     "output_type": "execute_result"
    }
   ],
   "source": [
    "response['data']"
   ]
  },
  {
   "cell_type": "code",
   "execution_count": null,
   "id": "7675e58d",
   "metadata": {},
   "outputs": [],
   "source": []
  }
 ],
 "metadata": {
  "kernelspec": {
   "display_name": "Python 3",
   "language": "python",
   "name": "python3"
  },
  "language_info": {
   "codemirror_mode": {
    "name": "ipython",
    "version": 3
   },
   "file_extension": ".py",
   "mimetype": "text/x-python",
   "name": "python",
   "nbconvert_exporter": "python",
   "pygments_lexer": "ipython3",
   "version": "3.6.15"
  }
 },
 "nbformat": 4,
 "nbformat_minor": 5
}
