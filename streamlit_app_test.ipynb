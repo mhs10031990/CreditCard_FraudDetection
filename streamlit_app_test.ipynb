{
 "cells": [
  {
   "cell_type": "code",
   "execution_count": 1,
   "id": "eec2c2fe",
   "metadata": {},
   "outputs": [],
   "source": [
    "import requests"
   ]
  },
  {
   "cell_type": "code",
   "execution_count": null,
   "id": "49965e00",
   "metadata": {},
   "outputs": [],
   "source": [
    "payload = "
   ]
  },
  {
   "cell_type": "code",
   "execution_count": null,
   "id": "eb2585d0",
   "metadata": {},
   "outputs": [],
   "source": [
    "headers={\"Content-type\":\"application/json\"}\n",
    "url = 'http://svc-8b6ea9ed-6c00-464a-a1a1-63529b992d58:5001/ccfrauddetectionmodel/6d176a03-54ee-4d02-ae2d-c588311e3967/score'\n",
    "\n",
    "score_input = {\"payload\" : payload}\n",
    "st.text_input(\"Model Payload\", score_input)\n",
    "response_json = requests.post(url, json=score_input, headers=headers)\n",
    "#st.text_input(\"API Response: \",response_json.content)\n",
    "response = response_json.json()"
   ]
  }
 ],
 "metadata": {
  "kernelspec": {
   "display_name": "Python 3",
   "language": "python",
   "name": "python3"
  },
  "language_info": {
   "codemirror_mode": {
    "name": "ipython",
    "version": 3
   },
   "file_extension": ".py",
   "mimetype": "text/x-python",
   "name": "python",
   "nbconvert_exporter": "python",
   "pygments_lexer": "ipython3",
   "version": "3.6.15"
  }
 },
 "nbformat": 4,
 "nbformat_minor": 5
}
